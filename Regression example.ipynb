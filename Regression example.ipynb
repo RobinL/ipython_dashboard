{
 "cells": [
  {
   "cell_type": "code",
   "execution_count": 1,
   "metadata": {
    "collapsed": true,
    "extensions": {
     "jupyter_dashboards": {
      "version": 1,
      "views": {
       "grid_default": {
        "hidden": true
       },
       "report_default": {
        "hidden": true
       }
      }
     }
    }
   },
   "outputs": [],
   "source": [
    "import pandas as pd\n",
    "import matplotlib.pyplot as plt\n",
    "from IPython.display import display, clear_output\n",
    "import binascii\n",
    "from StringIO import StringIO\n",
    "import ipywidgets as widgets\n",
    "from ipywidgets import HTML\n",
    "import numpy as np\n",
    "import statsmodels.formula.api as sm\n",
    "from pandas.tools.plotting import scatter_matrix\n",
    "import seaborn as sns\n",
    "sns.set_style('whitegrid')\n",
    "\n",
    "plt.interactive(False) # This will prevent matplotlib from showing the plots immediately "
   ]
  },
  {
   "cell_type": "code",
   "execution_count": 2,
   "metadata": {
    "collapsed": true,
    "extensions": {
     "jupyter_dashboards": {
      "version": 1,
      "views": {
       "grid_default": {
        "hidden": true
       },
       "report_default": {
        "hidden": true
       }
      }
     }
    }
   },
   "outputs": [],
   "source": [
    "widgets_dict = {}"
   ]
  },
  {
   "cell_type": "code",
   "execution_count": 3,
   "metadata": {
    "collapsed": false,
    "extensions": {
     "jupyter_dashboards": {
      "version": 1,
      "views": {
       "grid_default": {
        "col": 3,
        "height": 2,
        "hidden": false,
        "row": 2,
        "width": 4
       },
       "report_default": {
        "hidden": false
       }
      }
     }
    }
   },
   "outputs": [],
   "source": [
    "# widget - Variance of x\n",
    "var_x = widgets.FloatSlider(min=1, max=10, value=5, description=\"Variance of x\")\n",
    "widgets_dict[\"var_x\"] = var_x\n",
    "var_x"
   ]
  },
  {
   "cell_type": "code",
   "execution_count": 4,
   "metadata": {
    "collapsed": false,
    "extensions": {
     "jupyter_dashboards": {
      "version": 1,
      "views": {
       "grid_default": {
        "col": 0,
        "height": 2,
        "hidden": false,
        "row": 0,
        "width": 3
       },
       "report_default": {
        "hidden": false
       }
      }
     }
    }
   },
   "outputs": [],
   "source": [
    "num_points = widgets.IntSlider(min=10, max=1000, value=100, description=\"Number of points\")\n",
    "widgets_dict[\"num_points\"] = num_points\n",
    "num_points"
   ]
  },
  {
   "cell_type": "code",
   "execution_count": 5,
   "metadata": {
    "collapsed": false,
    "extensions": {
     "jupyter_dashboards": {
      "version": 1,
      "views": {
       "grid_default": {
        "col": 0,
        "height": 2,
        "hidden": false,
        "row": 2,
        "width": 3
       },
       "report_default": {
        "hidden": false
       }
      }
     }
    }
   },
   "outputs": [],
   "source": [
    "num_x_vars = widgets.IntSlider(min=1, max=6, value=1, description=\"Number of x vars\")\n",
    "widgets_dict[\"num_x_vars\"] = num_x_vars\n",
    "num_x_vars"
   ]
  },
  {
   "cell_type": "code",
   "execution_count": 6,
   "metadata": {
    "collapsed": false,
    "extensions": {
     "jupyter_dashboards": {
      "version": 1,
      "views": {
       "grid_default": {
        "col": 3,
        "height": 2,
        "hidden": false,
        "row": 0,
        "width": 4
       },
       "report_default": {
        "hidden": false
       }
      }
     }
    }
   },
   "outputs": [],
   "source": [
    "var_e = widgets.FloatSlider(min=0.0001, max=100, value=1, description=\"Var(e)\")\n",
    "widgets_dict[\"var_e\"] = var_e\n",
    "var_e"
   ]
  },
  {
   "cell_type": "code",
   "execution_count": 7,
   "metadata": {
    "collapsed": false,
    "extensions": {
     "jupyter_dashboards": {
      "version": 1,
      "views": {
       "grid_default": {
        "col": 7,
        "height": 4,
        "hidden": false,
        "row": 0,
        "width": 5
       },
       "report_default": {
        "hidden": false
       }
      }
     }
    }
   },
   "outputs": [
    {
     "name": "stderr",
     "output_type": "stream",
     "text": [
      "/Users/robinlinacre/anaconda/lib/python2.7/site-packages/pandas/tools/plotting.py:3369: UserWarning: To output multiple subplots, the figure containing the passed axes is being cleared\n",
      "  \"the passed axes is being cleared\", UserWarning)\n"
     ]
    }
   ],
   "source": [
    "x_vars = widgets.SelectMultiple(description=\"Choose x variables\")\n",
    "widgets_dict[\"x_vars\"] = x_vars\n",
    "x_vars.options = [\"x1\", \"x2\"]\n",
    "x_vars.value = [\"x1\", \"x2\"]\n",
    "x_vars"
   ]
  },
  {
   "cell_type": "code",
   "execution_count": 8,
   "metadata": {
    "collapsed": false,
    "extensions": {
     "jupyter_dashboards": {
      "version": 1,
      "views": {
       "grid_default": {
        "col": 0,
        "height": 7,
        "hidden": false,
        "row": 24,
        "width": 5
       },
       "report_default": {
        "hidden": false
       }
      }
     }
    }
   },
   "outputs": [],
   "source": [
    "# html output 1 - sample of data\n",
    "data_snippet = widgets.HTML()\n",
    "data_snippet"
   ]
  },
  {
   "cell_type": "code",
   "execution_count": 9,
   "metadata": {
    "collapsed": false,
    "extensions": {
     "jupyter_dashboards": {
      "version": 1,
      "views": {
       "grid_default": {
        "col": 0,
        "height": 20,
        "hidden": false,
        "row": 4,
        "width": 6
       },
       "report_default": {
        "hidden": false
       }
      }
     }
    }
   },
   "outputs": [],
   "source": [
    "# html output 2 - regression coefficients\n",
    "regression_results = widgets.HTML()\n",
    "regression_results"
   ]
  },
  {
   "cell_type": "code",
   "execution_count": 10,
   "metadata": {
    "collapsed": false,
    "extensions": {
     "jupyter_dashboards": {
      "version": 1,
      "views": {
       "grid_default": {
        "col": 6,
        "height": 15,
        "hidden": false,
        "row": 18,
        "width": 5
       },
       "report_default": {
        "hidden": false
       }
      }
     }
    }
   },
   "outputs": [],
   "source": [
    "# html output 3 - pair_plot_residuals\n",
    "pair_plot_residuals = widgets.HTML()\n",
    "pair_plot_residuals"
   ]
  },
  {
   "cell_type": "code",
   "execution_count": 11,
   "metadata": {
    "collapsed": false,
    "extensions": {
     "jupyter_dashboards": {
      "version": 1,
      "views": {
       "grid_default": {
        "col": 6,
        "height": 14,
        "hidden": false,
        "row": 4,
        "width": 5
       },
       "report_default": {
        "hidden": false
       }
      }
     }
    }
   },
   "outputs": [],
   "source": [
    "# html output 4 - pair_plot_data\n",
    "pair_plot_data = widgets.HTML()\n",
    "pair_plot_data"
   ]
  },
  {
   "cell_type": "code",
   "execution_count": null,
   "metadata": {
    "collapsed": true,
    "extensions": {
     "jupyter_dashboards": {
      "version": 1,
      "views": {
       "grid_default": {
        "hidden": true
       },
       "report_default": {
        "hidden": true
       }
      }
     }
    }
   },
   "outputs": [],
   "source": []
  },
  {
   "cell_type": "code",
   "execution_count": 12,
   "metadata": {
    "collapsed": true,
    "extensions": {
     "jupyter_dashboards": {
      "version": 1,
      "views": {
       "grid_default": {
        "hidden": true
       },
       "report_default": {
        "hidden": true
       }
      }
     }
    }
   },
   "outputs": [],
   "source": [
    "# If we want to display output in an arbitrary display area, this is a workaround\n",
    "def plot_to_html(fig):\n",
    "    # open IO object\n",
    "    sio = StringIO()\n",
    "    fig.canvas.print_png(sio)\n",
    "    img_data = binascii.b2a_base64(sio.getvalue())\n",
    "    img_html = '<img src=\"data:image/png;base64,{}&#10;\">'.format(img_data)\n",
    "    return img_html"
   ]
  },
  {
   "cell_type": "markdown",
   "metadata": {
    "extensions": {
     "jupyter_dashboards": {
      "version": 1,
      "views": {
       "grid_default": {
        "col": 0,
        "height": 4,
        "hidden": false,
        "row": 31,
        "width": 4
       },
       "report_default": {
        "hidden": false
       }
      }
     }
    }
   },
   "source": [
    "    hello\n",
    "    "
   ]
  },
  {
   "cell_type": "code",
   "execution_count": 23,
   "metadata": {
    "collapsed": false,
    "extensions": {
     "jupyter_dashboards": {
      "version": 1,
      "views": {
       "grid_default": {
        "hidden": true
       },
       "report_default": {
        "hidden": true
       }
      }
     }
    }
   },
   "outputs": [],
   "source": [
    "class RegressionModel():\n",
    "\n",
    "    def __init__(self):\n",
    "        self.parameters = {}\n",
    "        self.regression_data = None\n",
    "\n",
    "    def run(self, parameters):\n",
    "        \n",
    "        clear_output()\n",
    "        self.parameters = parameters\n",
    "\n",
    "        self.regression_data = self.get_regression_data()\n",
    "        self.run_regression()\n",
    "        \n",
    "        \n",
    "        data_snippet.value = self.regression_data.head().to_html(classes =[\"rendered_html\"])\n",
    "#         html_template = '<div class=\"rendered_html  \" style=\"margin-left:0px !important; \">{}</div>'\n",
    "        html_template = '<code>{}</code>'\n",
    "        regression_results.value = html_template.format(self.regression_results.summary().as_text())\n",
    "        pair_plot_residuals.value = plot_to_html(self.run_pair_plot_residuals())\n",
    "        pair_plot_data.value = plot_to_html(self.run_pair_plot_original_data())\n",
    "\n",
    "        # Only compute the pair plots if the options are selected\n",
    "\n",
    "\n",
    "    def get_regression_data(self):\n",
    "\n",
    "        def random_cov(num_variables):\n",
    "            cov = []\n",
    "            for i in range(num_variables):\n",
    "                cov.append([None]*num_variables)\n",
    "            for i in range(num_variables):\n",
    "                for j in range(num_variables):\n",
    "                    if i<j:\n",
    "                        r = np.random.uniform(-1,1)\n",
    "                        cov[i][j] = r\n",
    "                        cov[j][i] = r\n",
    "                    if i == j:\n",
    "                        cov[i][j] = 1\n",
    "            return cov\n",
    "\n",
    "\n",
    "        def is_pos_def(x):\n",
    "            return np.all(np.linalg.eigvals(x) > 0)\n",
    "\n",
    "        def get_pos_def_cov(num_variables):\n",
    "            while True:\n",
    "                 cov = random_cov(num_variables)\n",
    "                 if is_pos_def(cov):\n",
    "                    break\n",
    "            return cov\n",
    "\n",
    "        num_points = self.parameters[\"num_points\"]\n",
    "        num_x_vars = self.parameters[\"num_x_vars\"]\n",
    "        var_x = self.parameters[\"var_x\"]\n",
    "        var_e = self.parameters[\"var_e\"]\n",
    "\n",
    "        cov = get_pos_def_cov(num_x_vars)\n",
    "\n",
    "        \n",
    "        x = np.random.multivariate_normal([var_x]*num_x_vars, cov,num_points) \n",
    "        e = np.random.normal(0,var_e,num_points)\n",
    "\n",
    "        coefficients = np.random.uniform(-2,2,num_x_vars)\n",
    "\n",
    "        var_names = [\"x{}\".format(i+1) for i in range(num_x_vars)]\n",
    "\n",
    "        real_formula = \"y = {} + error\"\n",
    "        mid_formula_str = \" + \".join([\"{}*{}\".format(t[0],t[1]) for t in zip(coefficients,var_names)])\n",
    "        self.real_formula = real_formula.format(mid_formula_str)\n",
    "\n",
    "        df = pd.DataFrame(x, columns=var_names)\n",
    "        df[\"e\"] = e\n",
    "        df[\"y\"] = 0\n",
    "        for i, c in enumerate(coefficients):\n",
    "            df[\"y\"] += df[\"x{}\".format(i+1)]\n",
    "        df[\"y\"] += df[\"e\"]\n",
    "\n",
    "        return df\n",
    "\n",
    "    def run_pair_plot_original_data(self):\n",
    "\n",
    "        cols = [c for c in self.regression_data.columns if c != \"e\" and c !=\"resid\"]\n",
    "\n",
    "        fig1, ax1 = plt.subplots()  \n",
    "        scatter_matrix(self.regression_data[cols], alpha=0.2, figsize=(20, 20), diagonal='kde', ax=ax1)\n",
    "        # g = sns.PairGrid(self.regression_data, diag_sharey=False)\n",
    "        # g.map_lower(sns.kdeplot, cmap=\"Blues_d\")\n",
    "        # g.map_upper(plt.scatter)\n",
    "        # g.map_diag(sns.kdeplot, lw=3)\n",
    "        return fig1\n",
    "\n",
    "    def run_pair_plot_residuals(self):\n",
    "\n",
    "        cols = [c for c in self.regression_data.columns if c != \"e\"]\n",
    "\n",
    "        \n",
    "        # g = sns.PairGrid(self.regression_data, diag_sharey=False)\n",
    "        # g.map_lower(sns.kdeplot, cmap=\"Blues_d\")\n",
    "        # g.map_upper(plt.scatter)\n",
    "        # g.map_diag(sns.kdeplot, lw=3)\n",
    "        fig1, ax1 = plt.subplots()  \n",
    "        scatter_matrix(self.regression_data[cols], alpha=0.2, figsize=(20, 20), diagonal='kde', ax=ax1)\n",
    "\n",
    "        # Then place your plots on the relevant placeholders:\n",
    "        return fig1\n",
    "        \n",
    "\n",
    "    def run_regression(self):\n",
    "\n",
    "        def create_formula():\n",
    "            formula_template = \"y ~ {}\"\n",
    "            deps = \" + \".join(self.parameters[\"x_vars\"])\n",
    "            formula = formula_template.format(deps)\n",
    "            return formula\n",
    "\n",
    "        results = sm.ols(formula=create_formula(), data=self.regression_data).fit()\n",
    "\n",
    "        self.regression_results = results\n",
    "        self.regression_data[\"resid\"] = results.resid"
   ]
  },
  {
   "cell_type": "code",
   "execution_count": 24,
   "metadata": {
    "collapsed": true,
    "extensions": {
     "jupyter_dashboards": {
      "version": 1,
      "views": {
       "grid_default": {
        "hidden": true
       },
       "report_default": {
        "hidden": true
       }
      }
     }
    }
   },
   "outputs": [],
   "source": [
    "# Model\n",
    "model = RegressionModel()"
   ]
  },
  {
   "cell_type": "code",
   "execution_count": 25,
   "metadata": {
    "collapsed": true,
    "extensions": {
     "jupyter_dashboards": {
      "version": 1,
      "views": {
       "grid_default": {
        "hidden": true
       },
       "report_default": {
        "hidden": true
       }
      }
     }
    }
   },
   "outputs": [],
   "source": [
    "def convert_if_int(el):\n",
    "        \"\"\"\n",
    "        If type is float but it's really an integer return interger\n",
    "        \"\"\"\n",
    "        if type(el) == float:\n",
    "            if el.is_integer():\n",
    "                 return int(el)\n",
    "        return el\n",
    "        \n",
    "def get_parameters():\n",
    "    p = {}\n",
    "    for k,v in widgets_dict.iteritems():\n",
    "        p[k] = convert_if_int(v.value)\n",
    "    print p\n",
    "    return p\n",
    "    \n",
    "\n",
    "def widget_observer(callee):\n",
    "\n",
    "    if callee[\"type\"] == \"change\" and callee[\"name\"] == \"value\":\n",
    "        parameters = get_parameters()\n",
    "        model.run(parameters)"
   ]
  },
  {
   "cell_type": "code",
   "execution_count": 26,
   "metadata": {
    "collapsed": true,
    "extensions": {
     "jupyter_dashboards": {
      "version": 1,
      "views": {
       "grid_default": {
        "hidden": true
       },
       "report_default": {
        "hidden": true
       }
      }
     }
    }
   },
   "outputs": [],
   "source": [
    "for k,v in widgets_dict.iteritems():\n",
    "    v.observe(widget_observer)"
   ]
  },
  {
   "cell_type": "code",
   "execution_count": 27,
   "metadata": {
    "collapsed": false,
    "extensions": {
     "jupyter_dashboards": {
      "version": 1,
      "views": {
       "grid_default": {
        "hidden": true
       },
       "report_default": {
        "hidden": true
       }
      }
     }
    }
   },
   "outputs": [
    {
     "ename": "AttributeError",
     "evalue": "RegressionModel instance has no attribute 'regression_results'",
     "output_type": "error",
     "traceback": [
      "\u001b[0;31m---------------------------------------------------------------------------\u001b[0m",
      "\u001b[0;31mAttributeError\u001b[0m                            Traceback (most recent call last)",
      "\u001b[0;32m<ipython-input-27-42f4d46bff43>\u001b[0m in \u001b[0;36m<module>\u001b[0;34m()\u001b[0m\n\u001b[0;32m----> 1\u001b[0;31m \u001b[0ma\u001b[0m \u001b[0;34m=\u001b[0m \u001b[0mmodel\u001b[0m\u001b[0;34m.\u001b[0m\u001b[0mregression_results\u001b[0m\u001b[0;34m.\u001b[0m\u001b[0msummary\u001b[0m\u001b[0;34m(\u001b[0m\u001b[0;34m)\u001b[0m\u001b[0;34m\u001b[0m\u001b[0m\n\u001b[0m",
      "\u001b[0;31mAttributeError\u001b[0m: RegressionModel instance has no attribute 'regression_results'"
     ]
    }
   ],
   "source": [
    "a = model.regression_results.summary()"
   ]
  },
  {
   "cell_type": "code",
   "execution_count": 28,
   "metadata": {
    "collapsed": false,
    "extensions": {
     "jupyter_dashboards": {
      "version": 1,
      "views": {
       "grid_default": {
        "col": 4,
        "height": 31,
        "hidden": true,
        "row": 33,
        "width": 4
       },
       "report_default": {
        "hidden": false
       }
      }
     }
    }
   },
   "outputs": [
    {
     "data": {
      "text/plain": [
       "<bound method Summary.as_text of <class 'statsmodels.iolib.summary.Summary'>\n",
       "\"\"\"\n",
       "                            OLS Regression Results                            \n",
       "==============================================================================\n",
       "Dep. Variable:                      y   R-squared:                       0.440\n",
       "Model:                            OLS   Adj. R-squared:                  0.434\n",
       "Method:                 Least Squares   F-statistic:                     76.87\n",
       "Date:                Sun, 30 Oct 2016   Prob (F-statistic):           5.70e-14\n",
       "Time:                        18:35:01   Log-Likelihood:                -151.81\n",
       "No. Observations:                 100   AIC:                             307.6\n",
       "Df Residuals:                      98   BIC:                             312.8\n",
       "Df Model:                           1                                         \n",
       "Covariance Type:            nonrobust                                         \n",
       "==============================================================================\n",
       "                 coef    std err          t      P>|t|      [95.0% Conf. Int.]\n",
       "------------------------------------------------------------------------------\n",
       "Intercept     -0.0787      0.595     -0.132      0.895        -1.260     1.103\n",
       "x1             1.0040      0.115      8.767      0.000         0.777     1.231\n",
       "==============================================================================\n",
       "Omnibus:                        0.657   Durbin-Watson:                   2.105\n",
       "Prob(Omnibus):                  0.720   Jarque-Bera (JB):                0.777\n",
       "Skew:                           0.104   Prob(JB):                        0.678\n",
       "Kurtosis:                       2.622   Cond. No.                         28.7\n",
       "==============================================================================\n",
       "\n",
       "Warnings:\n",
       "[1] Standard Errors assume that the covariance matrix of the errors is correctly specified.\n",
       "\"\"\">"
      ]
     },
     "execution_count": 28,
     "metadata": {},
     "output_type": "execute_result"
    }
   ],
   "source": [
    "a.as_text"
   ]
  },
  {
   "cell_type": "code",
   "execution_count": null,
   "metadata": {
    "collapsed": true,
    "extensions": {
     "jupyter_dashboards": {
      "version": 1,
      "views": {
       "grid_default": {
        "hidden": true
       },
       "report_default": {
        "hidden": true
       }
      }
     }
    }
   },
   "outputs": [],
   "source": []
  },
  {
   "cell_type": "code",
   "execution_count": null,
   "metadata": {
    "collapsed": true,
    "extensions": {
     "jupyter_dashboards": {
      "version": 1,
      "views": {
       "grid_default": {
        "hidden": true
       },
       "report_default": {
        "hidden": true
       }
      }
     }
    }
   },
   "outputs": [],
   "source": []
  }
 ],
 "metadata": {
  "anaconda-cloud": {},
  "extensions": {
   "jupyter_dashboards": {
    "activeView": "grid_default",
    "version": 1,
    "views": {
     "grid_default": {
      "cellMargin": 10,
      "defaultCellHeight": 20,
      "maxColumns": 12,
      "name": "grid",
      "type": "grid"
     },
     "report_default": {
      "name": "report",
      "type": "report"
     }
    }
   }
  },
  "kernelspec": {
   "display_name": "Python [default]",
   "language": "python",
   "name": "python2"
  },
  "language_info": {
   "codemirror_mode": {
    "name": "ipython",
    "version": 2
   },
   "file_extension": ".py",
   "mimetype": "text/x-python",
   "name": "python",
   "nbconvert_exporter": "python",
   "pygments_lexer": "ipython2",
   "version": "2.7.12"
  },
  "widgets": {
   "state": {
    "01d19e14e73b4fc6832ae46366272af4": {
     "views": [
      {
       "cell_index": 4
      }
     ]
    },
    "2a86ddb4fdb8489496af6386a39425d0": {
     "views": [
      {
       "cell_index": 10
      }
     ]
    },
    "2bcb72c724e3482da8c8af420aba5c3a": {
     "views": [
      {
       "cell_index": 7
      }
     ]
    },
    "359c9c2486b749aeb2f69fe9a3809b21": {
     "views": [
      {
       "cell_index": 5
      }
     ]
    },
    "3b46538d1a114f8fa05d12cf996de59b": {
     "views": [
      {
       "cell_index": 3
      }
     ]
    },
    "685eb5bd9fc14f9a9d14f8ede6884d72": {
     "views": [
      {
       "cell_index": 6
      }
     ]
    },
    "693f4021a0a34beabb08e26ba0f1c8ff": {
     "views": [
      {
       "cell_index": 2
      }
     ]
    },
    "a2712296eddb41198afa39c5c9e4ab6b": {
     "views": [
      {
       "cell_index": 9
      }
     ]
    },
    "e56d84263c3b4754b4010a9902985993": {
     "views": [
      {
       "cell_index": 8
      }
     ]
    }
   },
   "version": "1.2.0"
  }
 },
 "nbformat": 4,
 "nbformat_minor": 1
}
