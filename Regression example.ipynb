{
 "cells": [
  {
   "cell_type": "code",
   "execution_count": 35,
   "metadata": {
    "collapsed": true,
    "extensions": {
     "jupyter_dashboards": {
      "version": 1,
      "views": {
       "grid_default": {
        "hidden": true
       },
       "report_default": {
        "hidden": true
       }
      }
     }
    }
   },
   "outputs": [],
   "source": [
    "import pandas as pd\n",
    "import matplotlib.pyplot as plt\n",
    "from IPython.display import display, clear_output\n",
    "import binascii\n",
    "from StringIO import StringIO\n",
    "import ipywidgets as widgets\n",
    "from ipywidgets import HTML\n",
    "import numpy as np\n",
    "import statsmodels.formula.api as sm\n",
    "from pandas.tools.plotting import scatter_matrix\n",
    "from scipy import random, linalg\n",
    "# import seaborn as sns\n",
    "# sns.set_style('whitegrid')\n",
    "\n",
    "plt.interactive(False) # This will prevent matplotlib from showing the plots immediately "
   ]
  },
  {
   "cell_type": "code",
   "execution_count": 36,
   "metadata": {
    "collapsed": true,
    "extensions": {
     "jupyter_dashboards": {
      "version": 1,
      "views": {
       "grid_default": {
        "hidden": true
       },
       "report_default": {
        "hidden": true
       }
      }
     }
    }
   },
   "outputs": [],
   "source": [
    "widgets_dict = {}"
   ]
  },
  {
   "cell_type": "code",
   "execution_count": 37,
   "metadata": {
    "collapsed": false,
    "extensions": {
     "jupyter_dashboards": {
      "version": 1,
      "views": {
       "grid_default": {
        "col": 3,
        "height": 2,
        "hidden": false,
        "row": 4,
        "width": 4
       },
       "report_default": {
        "hidden": false
       }
      }
     }
    }
   },
   "outputs": [],
   "source": [
    "# widget - Variance of x\n",
    "var_x = widgets.FloatSlider(min=1, max=10, value=5, description=\"Variance of x\", continuous_update=False)\n",
    "widgets_dict[\"var_x\"] = var_x\n",
    "var_x"
   ]
  },
  {
   "cell_type": "code",
   "execution_count": 38,
   "metadata": {
    "collapsed": false,
    "extensions": {
     "jupyter_dashboards": {
      "version": 1,
      "views": {
       "grid_default": {
        "col": 0,
        "height": 2,
        "hidden": false,
        "row": 2,
        "width": 3
       },
       "report_default": {
        "hidden": false
       }
      }
     }
    }
   },
   "outputs": [],
   "source": [
    "num_points = widgets.IntSlider(min=10, max=1000, value=100, description=\"Number of points\", continuous_update=False)\n",
    "widgets_dict[\"num_points\"] = num_points\n",
    "num_points"
   ]
  },
  {
   "cell_type": "code",
   "execution_count": 39,
   "metadata": {
    "collapsed": false,
    "extensions": {
     "jupyter_dashboards": {
      "version": 1,
      "views": {
       "grid_default": {
        "col": 0,
        "height": 2,
        "hidden": false,
        "row": 4,
        "width": 3
       },
       "report_default": {
        "hidden": false
       }
      }
     }
    }
   },
   "outputs": [],
   "source": [
    "num_x_vars = widgets.IntSlider(min=1, max=6, value=1, description=\"Number of x vars\", continuous_update=False)\n",
    "widgets_dict[\"num_x_vars\"] = num_x_vars\n",
    "num_x_vars"
   ]
  },
  {
   "cell_type": "code",
   "execution_count": 40,
   "metadata": {
    "collapsed": false,
    "extensions": {
     "jupyter_dashboards": {
      "version": 1,
      "views": {
       "grid_default": {
        "col": 3,
        "height": 2,
        "hidden": false,
        "row": 2,
        "width": 4
       },
       "report_default": {
        "hidden": false
       }
      }
     }
    }
   },
   "outputs": [],
   "source": [
    "var_e = widgets.FloatSlider(min=0.0001, max=100, value=1, description=\"Var(e)\", continuous_update=False)\n",
    "widgets_dict[\"var_e\"] = var_e\n",
    "var_e"
   ]
  },
  {
   "cell_type": "code",
   "execution_count": 41,
   "metadata": {
    "collapsed": false,
    "extensions": {
     "jupyter_dashboards": {
      "version": 1,
      "views": {
       "grid_default": {
        "col": 7,
        "height": 4,
        "hidden": false,
        "row": 2,
        "width": 5
       },
       "report_default": {
        "hidden": false
       }
      }
     }
    }
   },
   "outputs": [],
   "source": [
    "x_vars = widgets.SelectMultiple(description=\"Choose x variables\", continuous_update=False)\n",
    "widgets_dict[\"x_vars\"] = x_vars\n",
    "widgets_dict[\"x_vars\"].options = [\"x{}\".format(i+1) for i in range(widgets_dict[\"num_x_vars\"].value)]\n",
    "widgets_dict[\"x_vars\"].value = widgets_dict[\"x_vars\"].options\n",
    "x_vars"
   ]
  },
  {
   "cell_type": "code",
   "execution_count": 42,
   "metadata": {
    "collapsed": false,
    "extensions": {
     "jupyter_dashboards": {
      "version": 1,
      "views": {
       "grid_default": {
        "col": 0,
        "height": 7,
        "hidden": false,
        "row": 33,
        "width": 5
       },
       "report_default": {
        "hidden": false
       }
      }
     }
    }
   },
   "outputs": [],
   "source": [
    "# html output 1 - sample of data\n",
    "data_snippet = widgets.HTML()\n",
    "data_snippet"
   ]
  },
  {
   "cell_type": "code",
   "execution_count": 43,
   "metadata": {
    "collapsed": false,
    "extensions": {
     "jupyter_dashboards": {
      "version": 1,
      "views": {
       "grid_default": {
        "col": 0,
        "height": 23,
        "hidden": false,
        "row": 10,
        "width": 6
       },
       "report_default": {
        "hidden": false
       }
      }
     }
    }
   },
   "outputs": [],
   "source": [
    "# html output 2 - regression coefficients\n",
    "regression_results = widgets.HTML()\n",
    "regression_results"
   ]
  },
  {
   "cell_type": "code",
   "execution_count": 44,
   "metadata": {
    "collapsed": false,
    "extensions": {
     "jupyter_dashboards": {
      "version": 1,
      "views": {
       "grid_default": {
        "col": 6,
        "height": 15,
        "hidden": false,
        "row": 22,
        "width": 5
       },
       "report_default": {
        "hidden": false
       }
      }
     }
    }
   },
   "outputs": [],
   "source": [
    "# html output 3 - pair_plot_residuals\n",
    "pair_plot_residuals = widgets.HTML()\n",
    "pair_plot_residuals"
   ]
  },
  {
   "cell_type": "code",
   "execution_count": 45,
   "metadata": {
    "collapsed": false,
    "extensions": {
     "jupyter_dashboards": {
      "version": 1,
      "views": {
       "grid_default": {
        "col": 6,
        "height": 14,
        "hidden": false,
        "row": 8,
        "width": 5
       },
       "report_default": {
        "hidden": false
       }
      }
     }
    }
   },
   "outputs": [],
   "source": [
    "# html output 4 - pair_plot_data\n",
    "pair_plot_data = widgets.HTML()\n",
    "pair_plot_data"
   ]
  },
  {
   "cell_type": "code",
   "execution_count": 46,
   "metadata": {
    "collapsed": true,
    "extensions": {
     "jupyter_dashboards": {
      "version": 1,
      "views": {
       "grid_default": {
        "col": 0,
        "height": 2,
        "hidden": false,
        "row": 8,
        "width": 6
       },
       "report_default": {
        "hidden": true
       }
      }
     }
    }
   },
   "outputs": [],
   "source": [
    "regression_model_html_output = widgets.HTML()\n",
    "regression_model_html_output"
   ]
  },
  {
   "cell_type": "code",
   "execution_count": 47,
   "metadata": {
    "collapsed": true,
    "extensions": {
     "jupyter_dashboards": {
      "version": 1,
      "views": {
       "grid_default": {
        "hidden": true
       },
       "report_default": {
        "hidden": true
       }
      }
     }
    }
   },
   "outputs": [],
   "source": [
    "# If we want to display output in an arbitrary display area, this is a workaround\n",
    "def plot_to_html(fig):\n",
    "    # open IO object\n",
    "    sio = StringIO()\n",
    "    fig.canvas.print_png(sio)\n",
    "    img_data = binascii.b2a_base64(sio.getvalue())\n",
    "    img_html = '<img src=\"data:image/png;base64,{}&#10;\">'.format(img_data)\n",
    "    return img_html"
   ]
  },
  {
   "cell_type": "markdown",
   "metadata": {
    "extensions": {
     "jupyter_dashboards": {
      "version": 1,
      "views": {
       "grid_default": {
        "col": 0,
        "height": 2,
        "hidden": false,
        "row": 0,
        "width": 12
       },
       "report_default": {
        "hidden": false
       }
      }
     }
    }
   },
   "source": [
    "### Choose characteristics of regression model"
   ]
  },
  {
   "cell_type": "markdown",
   "metadata": {
    "extensions": {
     "jupyter_dashboards": {
      "version": 1,
      "views": {
       "grid_default": {
        "col": 0,
        "height": 2,
        "hidden": false,
        "row": 6,
        "width": 12
       },
       "report_default": {}
      }
     }
    }
   },
   "source": [
    "### Results of regression model"
   ]
  },
  {
   "cell_type": "code",
   "execution_count": 48,
   "metadata": {
    "collapsed": false,
    "extensions": {
     "jupyter_dashboards": {
      "version": 1,
      "views": {
       "grid_default": {
        "hidden": true
       },
       "report_default": {
        "hidden": true
       }
      }
     }
    }
   },
   "outputs": [],
   "source": [
    "class RegressionModel():\n",
    "\n",
    "    def __init__(self):\n",
    "        self.parameters = {}\n",
    "        self.regression_data = None\n",
    "\n",
    "    def run(self, parameters):\n",
    "        \n",
    "        clear_output()\n",
    "\n",
    "        saved_values = widgets_dict[\"x_vars\"].value\n",
    "        widgets_dict[\"x_vars\"].options = [\"x{}\".format(i+1) for i in range(widgets_dict[\"num_x_vars\"].value)]\n",
    "#         widgets_dict[\"x_vars\"].value = [v for v in saved_values if v in widgets_dict[\"x_vars\"].options]\n",
    "    \n",
    "        self.parameters = parameters\n",
    "\n",
    "        self.regression_data = self.get_regression_data()\n",
    "        self.run_regression()\n",
    "        \n",
    "        \n",
    "        data_snippet.value = self.regression_data.head().to_html(classes =[\"rendered_html\"])\n",
    "#         html_template = '<div class=\"rendered_html  \" style=\"margin-left:0px !important; \">{}</div>'\n",
    "        html_template = '<code>{}</code>'\n",
    "        regression_results.value = html_template.format(self.regression_results.summary().as_text())\n",
    "        \n",
    "        html_template = \"<code>Real formula: {}</code>\"\n",
    "        regression_model_html_output.value = html_template.format(self.real_formula)\n",
    "        \n",
    "        pair_plot_residuals.value = plot_to_html(self.run_pair_plot_residuals())\n",
    "        pair_plot_data.value = plot_to_html(self.run_pair_plot_original_data())\n",
    "\n",
    "        \n",
    "\n",
    "        # Only compute the pair plots if the options are selected\n",
    "\n",
    "\n",
    "    def get_regression_data(self):\n",
    "\n",
    "        def random_cov(num_variables):\n",
    "            A = random.rand(num_variables,num_variables)\n",
    "            B = np.dot(A,A.transpose())\n",
    "            B = B/np.max(B*1.1)\n",
    "            np.fill_diagonal(B,1)\n",
    "            return B\n",
    "        \n",
    "\n",
    "        def is_pos_def(x):\n",
    "            return np.all(np.linalg.eigvals(x) > 0)\n",
    "\n",
    "        def get_pos_def_cov(num_variables):\n",
    "            while True:\n",
    "                 cov = random_cov(num_variables)\n",
    "                 if is_pos_def(cov):\n",
    "                    break\n",
    "            return cov\n",
    "\n",
    "        num_points = self.parameters[\"num_points\"]\n",
    "        num_x_vars = self.parameters[\"num_x_vars\"]\n",
    "        var_x = self.parameters[\"var_x\"]\n",
    "        var_e = self.parameters[\"var_e\"]\n",
    "\n",
    "        cov = get_pos_def_cov(num_x_vars)\n",
    "\n",
    "        \n",
    "        x = np.random.multivariate_normal([var_x]*num_x_vars, cov,num_points) \n",
    "        e = np.random.normal(0,var_e,num_points)\n",
    "\n",
    "        coefficients = np.random.uniform(-2,2,num_x_vars)\n",
    "\n",
    "        var_names = [\"x{}\".format(i+1) for i in range(num_x_vars)]\n",
    "\n",
    "        real_formula = \"y = {} + error\"\n",
    "        mid_formula_str = \" + \".join([\"{}*{}\".format(t[0],t[1]) for t in zip(coefficients,var_names)])\n",
    "        self.real_formula = real_formula.format(mid_formula_str)\n",
    "\n",
    "        df = pd.DataFrame(x, columns=var_names)\n",
    "        df[\"e\"] = e\n",
    "        df[\"y\"] = 0\n",
    "        for i, c in enumerate(coefficients):\n",
    "            df[\"y\"] += c*df[\"x{}\".format(i+1)]\n",
    "        df[\"y\"] += df[\"e\"]\n",
    "\n",
    "        return df\n",
    "\n",
    "    def run_pair_plot_original_data(self):\n",
    "\n",
    "        cols = [c for c in self.regression_data.columns if c != \"e\" and c !=\"resid\"]\n",
    "\n",
    "        fig1, ax1 = plt.subplots()  \n",
    "        scatter_matrix(self.regression_data[cols], alpha=0.2, figsize=(20, 20), diagonal='kde', ax=ax1)\n",
    "        # g = sns.PairGrid(self.regression_data, diag_sharey=False)\n",
    "        # g.map_lower(sns.kdeplot, cmap=\"Blues_d\")\n",
    "        # g.map_upper(plt.scatter)\n",
    "        # g.map_diag(sns.kdeplot, lw=3)\n",
    "        return fig1\n",
    "\n",
    "    def run_pair_plot_residuals(self):\n",
    "\n",
    "        cols = [c for c in self.regression_data.columns if c != \"e\"]\n",
    "\n",
    "        \n",
    "        # g = sns.PairGrid(self.regression_data, diag_sharey=False)\n",
    "        # g.map_lower(sns.kdeplot, cmap=\"Blues_d\")\n",
    "        # g.map_upper(plt.scatter)\n",
    "        # g.map_diag(sns.kdeplot, lw=3)\n",
    "        fig1, ax1 = plt.subplots()  \n",
    "        scatter_matrix(self.regression_data[cols], alpha=0.2, figsize=(20, 20), diagonal='kde', ax=ax1)\n",
    "\n",
    "        # Then place your plots on the relevant placeholders:\n",
    "        return fig1\n",
    "        \n",
    "\n",
    "    def run_regression(self):\n",
    "\n",
    "        def create_formula():\n",
    "            formula_template = \"y ~ {}\"\n",
    "            deps = \" + \".join(self.parameters[\"x_vars\"])\n",
    "            formula = formula_template.format(deps)\n",
    "            return formula\n",
    "\n",
    "        results = sm.ols(formula=create_formula(), data=self.regression_data).fit()\n",
    "\n",
    "        self.regression_results = results\n",
    "        self.regression_data[\"resid\"] = results.resid"
   ]
  },
  {
   "cell_type": "code",
   "execution_count": 49,
   "metadata": {
    "collapsed": true,
    "extensions": {
     "jupyter_dashboards": {
      "version": 1,
      "views": {
       "grid_default": {
        "hidden": true
       },
       "report_default": {
        "hidden": true
       }
      }
     }
    }
   },
   "outputs": [],
   "source": [
    "# Model\n",
    "model = RegressionModel()"
   ]
  },
  {
   "cell_type": "code",
   "execution_count": 50,
   "metadata": {
    "collapsed": true,
    "extensions": {
     "jupyter_dashboards": {
      "version": 1,
      "views": {
       "grid_default": {
        "hidden": true
       },
       "report_default": {
        "hidden": true
       }
      }
     }
    }
   },
   "outputs": [],
   "source": [
    "def convert_if_int(el):\n",
    "        \"\"\"\n",
    "        If type is float but it's really an integer return interger\n",
    "        \"\"\"\n",
    "        if type(el) == float:\n",
    "            if el.is_integer():\n",
    "                 return int(el)\n",
    "        return el\n",
    "        \n",
    "def get_parameters():\n",
    "    p = {}\n",
    "    for k,v in widgets_dict.iteritems():\n",
    "        p[k] = convert_if_int(v.value)\n",
    "    print p\n",
    "    return p\n",
    "    \n",
    "\n",
    "def widget_observer(callee):\n",
    "\n",
    "    if callee[\"type\"] == \"change\" and callee[\"name\"] == \"value\":\n",
    "        parameters = get_parameters()\n",
    "        model.run(parameters)"
   ]
  },
  {
   "cell_type": "code",
   "execution_count": 51,
   "metadata": {
    "collapsed": true,
    "extensions": {
     "jupyter_dashboards": {
      "version": 1,
      "views": {
       "grid_default": {
        "hidden": true
       },
       "report_default": {
        "hidden": true
       }
      }
     }
    }
   },
   "outputs": [],
   "source": [
    "for k,v in widgets_dict.iteritems():\n",
    "    v.observe(widget_observer)"
   ]
  },
  {
   "cell_type": "code",
   "execution_count": null,
   "metadata": {
    "collapsed": true,
    "extensions": {
     "jupyter_dashboards": {
      "version": 1,
      "views": {
       "grid_default": {
        "hidden": true
       },
       "report_default": {}
      }
     }
    }
   },
   "outputs": [],
   "source": []
  },
  {
   "cell_type": "code",
   "execution_count": null,
   "metadata": {
    "collapsed": true,
    "extensions": {
     "jupyter_dashboards": {
      "version": 1,
      "views": {
       "grid_default": {
        "hidden": true
       },
       "report_default": {}
      }
     }
    }
   },
   "outputs": [],
   "source": []
  }
 ],
 "metadata": {
  "anaconda-cloud": {},
  "extensions": {
   "jupyter_dashboards": {
    "activeView": "grid_default",
    "version": 1,
    "views": {
     "grid_default": {
      "cellMargin": 10,
      "defaultCellHeight": 20,
      "maxColumns": 12,
      "name": "grid",
      "type": "grid"
     },
     "report_default": {
      "name": "report",
      "type": "report"
     }
    }
   }
  },
  "kernelspec": {
   "display_name": "Python [default]",
   "language": "python",
   "name": "python2"
  },
  "language_info": {
   "codemirror_mode": {
    "name": "ipython",
    "version": 2
   },
   "file_extension": ".py",
   "mimetype": "text/x-python",
   "name": "python",
   "nbconvert_exporter": "python",
   "pygments_lexer": "ipython2",
   "version": "2.7.12"
  },
  "widgets": {
   "state": {
    "09b95c62931a435795380668c6e3b77d": {
     "views": [
      {
       "cell_index": 5
      }
     ]
    },
    "170b497fc63741da991e27439162f729": {
     "views": [
      {
       "cell_index": 11
      }
     ]
    },
    "22f2bd053d534b78bbc0eed52bdba6f9": {
     "views": [
      {
       "cell_index": 3
      }
     ]
    },
    "2e7790bc9f754d0d956f587653a97097": {
     "views": [
      {
       "cell_index": 4
      }
     ]
    },
    "3c9a4f523f4d416fbd97d7673bcda1e3": {
     "views": [
      {
       "cell_index": 8
      }
     ]
    },
    "3e6f19dd0f15451a8cfb31d72de347e5": {
     "views": [
      {
       "cell_index": 9
      }
     ]
    },
    "4bd6227ccc88489c92a7b215b7f98824": {
     "views": [
      {
       "cell_index": 7
      }
     ]
    },
    "6ea1b8069da84a1d9ae4060a1494b439": {
     "views": [
      {
       "cell_index": 2
      }
     ]
    },
    "ac77a3725dda4ebcbbebcd3389796c4b": {
     "views": [
      {
       "cell_index": 10
      }
     ]
    },
    "dd2f948eaf1949f2873d25b6de327aef": {
     "views": [
      {
       "cell_index": 6
      }
     ]
    }
   },
   "version": "1.2.0"
  }
 },
 "nbformat": 4,
 "nbformat_minor": 1
}
